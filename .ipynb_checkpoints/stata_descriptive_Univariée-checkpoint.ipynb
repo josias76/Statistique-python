{
 "cells": [
  {
   "cell_type": "markdown",
   "id": "f4e2307d-7635-4e65-8d2f-505fe5a48aa6",
   "metadata": {},
   "source": [
    "# ANALYSE UNIVARIEE"
   ]
  },
  {
   "cell_type": "code",
   "execution_count": 2,
   "id": "9bbbae3d-5236-4f3a-a399-8510e0b83ee8",
   "metadata": {},
   "outputs": [],
   "source": [
    " # Code optionnel \n",
    "from warnings import filterwarnings\n",
    "filterwarnings('ignore')"
   ]
  },
  {
   "cell_type": "code",
   "execution_count": 99,
   "id": "b458dbbe-32df-47ba-94bc-2926d4bf9f4d",
   "metadata": {},
   "outputs": [],
   "source": [
    "import pandas as pd\n",
    "import numpy as np \n",
    "import matplotlib.pyplot as plt\n",
    "import seaborn as sns\n",
    "#plt.style.use('ggplot')"
   ]
  },
  {
   "cell_type": "code",
   "execution_count": 101,
   "id": "42d0fd06-2e97-4c2e-9642-5a2c247c0002",
   "metadata": {},
   "outputs": [],
   "source": [
    "# les données se trouve dans seaborn\n",
    "#sns.get_dataset_names()"
   ]
  },
  {
   "cell_type": "code",
   "execution_count": null,
   "id": "102cba60-7ed1-41c4-ab0a-7ea261180541",
   "metadata": {},
   "outputs": [],
   "source": [
    "# importer les données tips\n",
    "tips_df = sns.load_dataset(\"tips\")\n",
    "tips_df"
   ]
  },
  {
   "cell_type": "code",
   "execution_count": null,
   "id": "82a489ef-d0ca-4ca8-8405-1b0acd342a01",
   "metadata": {},
   "outputs": [],
   "source": [
    "tips_df.info()"
   ]
  },
  {
   "cell_type": "code",
   "execution_count": null,
   "id": "9e5b9804-2e71-475d-a4e6-77c7831f07ec",
   "metadata": {},
   "outputs": [],
   "source": [
    "tips_df.shape"
   ]
  },
  {
   "cell_type": "code",
   "execution_count": null,
   "id": "e612f4e7-5887-4e17-8bf7-391c7c3348bb",
   "metadata": {},
   "outputs": [],
   "source": [
    "tips_df.dtypes"
   ]
  },
  {
   "cell_type": "markdown",
   "id": "850fd675-99bf-46db-9b3c-28acc7b93b53",
   "metadata": {},
   "source": [
    "# Parametres Statistiques usuels\n"
   ]
  },
  {
   "cell_type": "code",
   "execution_count": null,
   "id": "eafb9543-a9a9-44d2-a8ce-ed378c7971f4",
   "metadata": {},
   "outputs": [],
   "source": [
    "# pourboir moyen\n",
    "tips_df[\"tip\"].mean()"
   ]
  },
  {
   "cell_type": "code",
   "execution_count": null,
   "id": "b8782dd6-862c-4821-8d00-8fa8501871a5",
   "metadata": {},
   "outputs": [],
   "source": [
    "# pourboir médian\n",
    "tips_df[\"tip\"].median()"
   ]
  },
  {
   "cell_type": "code",
   "execution_count": null,
   "id": "59585541-759e-4d45-b392-765b9eca1d84",
   "metadata": {},
   "outputs": [],
   "source": [
    "tips_df[\"tip\"].value_counts(normalize = True) # fréquence"
   ]
  },
  {
   "cell_type": "code",
   "execution_count": null,
   "id": "5a61cad8-dbce-42b9-9893-7a1a5a338f7d",
   "metadata": {},
   "outputs": [],
   "source": [
    "tips_df[\"tip\"].var()"
   ]
  },
  {
   "cell_type": "code",
   "execution_count": null,
   "id": "d19ede16-8e90-451b-98bd-4bbe984d8d4d",
   "metadata": {},
   "outputs": [],
   "source": [
    "tips_df[\"tip\"].std()"
   ]
  },
  {
   "cell_type": "code",
   "execution_count": null,
   "id": "e01befc6-8a56-4220-b20f-e179ed8f81ed",
   "metadata": {},
   "outputs": [],
   "source": [
    "tips_df.describe(include= 'all')"
   ]
  },
  {
   "cell_type": "code",
   "execution_count": null,
   "id": "3e779d0c-37a2-4501-9ba7-c389eed68758",
   "metadata": {},
   "outputs": [],
   "source": [
    "# Quartiles de la variable total_bill : méthode .quantile ()\n",
    "print('1er quartile :', tips_df[\"total_bill\"].quantile(0.25))\n",
    "print('2ieme quartile :', tips_df[\"total_bill\"].quantile(0.50))\n",
    "print('3ème quartile :', tips_df[\"total_bill\"].quantile(0.75))"
   ]
  },
  {
   "cell_type": "code",
   "execution_count": null,
   "id": "a159c6d8-1a64-4ab5-ae46-a32dde4d5922",
   "metadata": {},
   "outputs": [],
   "source": [
    "# Quartiles de la variable total_bill : fonction quantile () de numpy\n",
    "\n",
    "print('1er quartile :', np.quantile(tips_df[\"total_bill\"],0.25))\n",
    "print('2ieme quartile :', np.quantile(tips_df[\"total_bill\"],0.50))\n",
    "print('3ème quartile :', np.quantile(tips_df[\"total_bill\"],0.75))"
   ]
  },
  {
   "cell_type": "code",
   "execution_count": null,
   "id": "64262c37-2259-4b00-8580-debe4f84841a",
   "metadata": {},
   "outputs": [],
   "source": [
    "# Quartiles de la variable total_bill : fonction percentile () de numpy"
   ]
  },
  {
   "cell_type": "code",
   "execution_count": null,
   "id": "ddfb1c3c-797e-46d3-9a8b-7e5503c48ec8",
   "metadata": {},
   "outputs": [],
   "source": [
    "print('1er quartile :', np.percentile(tips_df[\"total_bill\"],25))\n",
    "print('2ieme quartile :', np.percentile(tips_df[\"total_bill\"],50))\n",
    "print('3ème quartile :', np.percentile(tips_df[\"total_bill\"],75))"
   ]
  },
  {
   "cell_type": "code",
   "execution_count": null,
   "id": "56fdb0ab-7a84-4861-9d9b-5b02da1b6d8f",
   "metadata": {},
   "outputs": [],
   "source": [
    "# Tous les quartiles en une seule ligne de code en utilisant numpy\n",
    "np.quantile(tips_df[\"total_bill\"],[0.25,0.5,0.75])"
   ]
  },
  {
   "cell_type": "code",
   "execution_count": null,
   "id": "afcfd9be-07c0-408b-b462-3fc77fb58700",
   "metadata": {},
   "outputs": [],
   "source": [
    "np.quantile(tips_df[\"total_bill\"],[0.2,0.4,0.6,0.8,1])"
   ]
  },
  {
   "cell_type": "code",
   "execution_count": null,
   "id": "7cac29f2-52d0-4468-a297-e4458d2eded3",
   "metadata": {},
   "outputs": [],
   "source": [
    "#IQR de la variable\n",
    "tips_df[\"total_bill\"].quantile(0.75)- tips_df[\"total_bill\"].quantile(0.25)\n",
    "# iqr est la difference entre le 3ième quartil et le prèmier"
   ]
  },
  {
   "cell_type": "code",
   "execution_count": null,
   "id": "8913ad8e-5ff2-4cf8-98e2-55a09d3883fc",
   "metadata": {},
   "outputs": [],
   "source": [
    "# importation du module statistique \n",
    "# en utilisant le module stats de scipy\n",
    "\n",
    "import statistics as st \n",
    "from scipy import stats"
   ]
  },
  {
   "cell_type": "code",
   "execution_count": null,
   "id": "4e6da54a-5ffd-4ce4-9752-3ea151480a7c",
   "metadata": {},
   "outputs": [],
   "source": [
    "stats.iqr(tips_df[\"total_bill\"])"
   ]
  },
  {
   "cell_type": "code",
   "execution_count": null,
   "id": "13655850-7460-4d62-acfc-975d7c79815b",
   "metadata": {},
   "outputs": [],
   "source": [
    "tips_df[\"day\"].unique()"
   ]
  },
  {
   "cell_type": "code",
   "execution_count": null,
   "id": "e6d75bd7-0b16-4c0a-a7ab-1aa39ba69b23",
   "metadata": {},
   "outputs": [],
   "source": [
    "tips_df[\"day\"].value_counts()"
   ]
  },
  {
   "cell_type": "code",
   "execution_count": null,
   "id": "05840311-998f-405c-814f-54155c740ff7",
   "metadata": {},
   "outputs": [],
   "source": [
    "# Dataframe des clients du samedi ou dimanche (filtration)\n",
    "sat_sun_df = tips_df[(tips_df.day =='Sat')| (tips_df.day == 'Sun')]\n",
    "sat_sun_df"
   ]
  },
  {
   "cell_type": "code",
   "execution_count": null,
   "id": "5e40847e-e1df-4d7b-89cc-9c2b8cb00995",
   "metadata": {},
   "outputs": [],
   "source": [
    "sat_sun_df.shape"
   ]
  },
  {
   "cell_type": "code",
   "execution_count": null,
   "id": "934c51b5-e1d7-462e-8db4-9d79f4c4073f",
   "metadata": {},
   "outputs": [],
   "source": [
    "sat_sun_df.value_counts()"
   ]
  },
  {
   "cell_type": "code",
   "execution_count": null,
   "id": "359e184f-d2c1-4ebe-84fa-3f4c741a9441",
   "metadata": {},
   "outputs": [],
   "source": [
    "# consommation moyenne et médiane des clients du samedi et du dimanche\n",
    "sat_sun_df.groupby(\"day\")['total_bill'].agg (['mean','median'])"
   ]
  },
  {
   "cell_type": "markdown",
   "id": "38501f1a-8ba9-418e-86c5-330103718332",
   "metadata": {},
   "source": [
    "# GRAPHIQUES BASIQUE POUR DECRIRE UNE VARIABLE"
   ]
  },
  {
   "cell_type": "markdown",
   "id": "c13e60dc-139d-4dc6-b69e-170ef469fd65",
   "metadata": {},
   "source": [
    "## HISTOGRAMME\n",
    "répresente les variables quantitative continue"
   ]
  },
  {
   "cell_type": "code",
   "execution_count": null,
   "id": "670a030f-7b1b-4889-8221-5da95c9d8274",
   "metadata": {},
   "outputs": [],
   "source": [
    " \n",
    "tips_df.info"
   ]
  },
  {
   "cell_type": "code",
   "execution_count": null,
   "id": "c21078a1-e4f8-4a31-a42f-8b4371570d60",
   "metadata": {},
   "outputs": [],
   "source": [
    "tips_df.dtypes"
   ]
  },
  {
   "cell_type": "code",
   "execution_count": null,
   "id": "a5bf7461-baeb-4013-81c6-838bdb3705c3",
   "metadata": {},
   "outputs": [],
   "source": [
    "# HIST du montant total de la consommation\n",
    "hist_cons = sns.distplot(tips_df[\"total_bill\"],kde= False)   # qu'il n'affiche pas la fonction de densité\n",
    "hist_cons.set_title('consommation totale');\n",
    "hist_cons"
   ]
  },
  {
   "cell_type": "code",
   "execution_count": null,
   "id": "80fea84f-acff-4ffc-a494-fd749570d175",
   "metadata": {},
   "outputs": [],
   "source": [
    "# HIST du montant total de la consommation\n",
    "hist_cons = sns.distplot(tips_df[\"total_bill\"],kde= False,bins = 20)   # qu'il n'affiche pas la fonction de densité\n",
    "hist_cons.set_title('consommation totale');\n",
    "hist_cons"
   ]
  },
  {
   "cell_type": "code",
   "execution_count": null,
   "id": "d7125ac6-f278-449b-86dc-258dab774731",
   "metadata": {},
   "outputs": [],
   "source": [
    "#Dénsité de probabilité du montant total de la consommation\n",
    "\n",
    "\n",
    "hist_cons = sns.distplot(tips_df[\"total_bill\"],hist= False)   # j'affiche uniquement la densité de probabilité\n",
    "hist_cons.set_title('consommation totale');\n",
    "hist_cons"
   ]
  },
  {
   "cell_type": "code",
   "execution_count": null,
   "id": "80defc08-182c-48d8-ac9b-b876e81aeca8",
   "metadata": {},
   "outputs": [],
   "source": [
    "#Histogramme et la densité de probabilité du montant total de la consommation\n",
    "hist_cons = sns.distplot(tips_df[\"total_bill\"])  \n",
    "hist_cons.set_title('consommation totale');\n",
    "hist_cons"
   ]
  },
  {
   "cell_type": "code",
   "execution_count": null,
   "id": "1fb7dcc2-de75-4c3b-b6f7-0fd9d00cbccf",
   "metadata": {},
   "outputs": [],
   "source": [
    "# Exemple de distribution normal\n",
    "\n",
    "sns.distplot(np.random.normal(size = 10000),kde = True).set_title('Distribution normale')"
   ]
  },
  {
   "cell_type": "code",
   "execution_count": null,
   "id": "4a09d2ed-6d50-43f2-ac6a-bbbbb8857b84",
   "metadata": {},
   "outputs": [],
   "source": [
    "# Importation du module stats de scipy"
   ]
  },
  {
   "cell_type": "code",
   "execution_count": null,
   "id": "d81e3f55-d565-4e62-a56b-792c310663dd",
   "metadata": {},
   "outputs": [],
   "source": [
    "#fonction pour trouver les outliers"
   ]
  },
  {
   "cell_type": "code",
   "execution_count": null,
   "id": "4c2a4fe3-7c6a-4c8e-89e2-4e7bc10ede64",
   "metadata": {},
   "outputs": [],
   "source": [
    "#\n",
    "tips_df.columns"
   ]
  },
  {
   "cell_type": "code",
   "execution_count": null,
   "id": "37937e55-ea82-41e1-8554-b49394d98507",
   "metadata": {},
   "outputs": [],
   "source": [
    "tips_df[\"day\"].value_counts()"
   ]
  },
  {
   "cell_type": "markdown",
   "id": "18a3f9aa-6422-493f-a605-5782eb218efe",
   "metadata": {},
   "source": [
    "## BOITE A MOUSTACHE"
   ]
  },
  {
   "cell_type": "code",
   "execution_count": null,
   "id": "0fb029ed-9004-4edc-a183-a97e46eddae7",
   "metadata": {},
   "outputs": [],
   "source": [
    "# BOITE A moustache du pourboir   # vertical\n",
    "sns.boxplot(tips_df['tip']).set_title(\"Montant des pourboire\")"
   ]
  },
  {
   "cell_type": "code",
   "execution_count": null,
   "id": "257acb20-fdba-4e39-a131-7fc6e836a368",
   "metadata": {},
   "outputs": [],
   "source": [
    " # BOITE A moustache du pourboir    (en Horizontal) pour vertical; y = \n",
    "sns.boxplot(x = tips_df['tip']).set_title(\"Montant des pourboire\")"
   ]
  },
  {
   "cell_type": "code",
   "execution_count": null,
   "id": "27ec871f-fdaa-43d5-abc9-64e175447593",
   "metadata": {},
   "outputs": [],
   "source": [
    "sns.boxplot(tips_df['total_bill']).set_title(\"Consommation total\")"
   ]
  },
  {
   "cell_type": "code",
   "execution_count": null,
   "id": "2ee6c4f4-013e-4429-9540-5eb3ed560d07",
   "metadata": {},
   "outputs": [],
   "source": []
  },
  {
   "cell_type": "code",
   "execution_count": null,
   "id": "82bfe7b2-e157-46d6-bba9-e9b4219acccb",
   "metadata": {},
   "outputs": [],
   "source": []
  },
  {
   "cell_type": "code",
   "execution_count": null,
   "id": "b6e1485c-deee-4aff-a8a2-921bfd00f661",
   "metadata": {},
   "outputs": [],
   "source": []
  },
  {
   "cell_type": "code",
   "execution_count": null,
   "id": "f82b32c6-a2b2-4077-82af-a1dc00782193",
   "metadata": {},
   "outputs": [],
   "source": []
  },
  {
   "cell_type": "code",
   "execution_count": null,
   "id": "fd875793-0ffb-445e-9a64-9222a5583a98",
   "metadata": {},
   "outputs": [],
   "source": []
  },
  {
   "cell_type": "code",
   "execution_count": null,
   "id": "2eb0da9a-0df3-4950-b456-ebe98e81494e",
   "metadata": {},
   "outputs": [],
   "source": []
  },
  {
   "cell_type": "markdown",
   "id": "4d368b93-cfd2-4215-9636-2c400f57746a",
   "metadata": {},
   "source": [
    "## DIAGRAMME A BARRE ET CIRCULAIRE\n",
    "pour les variables categorielle"
   ]
  },
  {
   "cell_type": "code",
   "execution_count": null,
   "id": "04cd87ed-f2d4-4a40-886f-d06c3e945511",
   "metadata": {},
   "outputs": [],
   "source": [
    "# Diagramme à barre avec la librairie seaborne\n",
    "# sns.countplot(tips_df[\"day\"]).set_title('Fréquentation du restaurant')\n",
    "sns.countplot(data=tips_df, x=\"day\").set_title('Fréquentation du restaurant')\n",
    "plt.show()\n"
   ]
  },
  {
   "cell_type": "code",
   "execution_count": null,
   "id": "13a37cca-cf4f-43a8-8d6a-f9ec9515f166",
   "metadata": {},
   "outputs": [],
   "source": [
    "# affichage croissante diagramme à barre\n",
    "sns.countplot(data=tips_df, x=\"day\",order =tips_df[\"day\"].value_counts().index).set_title('Fréquentation du restaurant')\n",
    "plt.show()\n",
    "              "
   ]
  },
  {
   "cell_type": "code",
   "execution_count": null,
   "id": "788cc91f-e4e7-43a2-9de6-76c04ad43caf",
   "metadata": {},
   "outputs": [],
   "source": [
    "# affichage croissante diagramme à barre\n",
    "sns.countplot(data=tips_df, x=\"day\",order =tips_df[\"day\"].value_counts(ascending = True).index).set_title('Fréquentation du restaurant')\n",
    "plt.show()\n",
    "              "
   ]
  },
  {
   "cell_type": "code",
   "execution_count": null,
   "id": "4e05e795-80e3-4baf-b4b9-76f7e1b21da9",
   "metadata": {},
   "outputs": [],
   "source": [
    "# Diagramme à barre de la vairable day\n",
    "#sns.countplot(tips_df[\"smoker\"],order = tips_df[\"smoker\"].value_counts().index)\n",
    "tips_df[\"day\"].value_counts().plot(kind ='bar',title = 'frequentation du restaurant')\n"
   ]
  },
  {
   "cell_type": "code",
   "execution_count": null,
   "id": "d92b397c-f7fc-42ea-9478-2497c4fb3363",
   "metadata": {},
   "outputs": [],
   "source": [
    "tips_df[\"day\"].value_counts().plot(kind ='pie',title = 'frequentation du restaurant')"
   ]
  },
  {
   "cell_type": "code",
   "execution_count": null,
   "id": "8ca3465a-a4fa-431a-b84b-d8e097669dce",
   "metadata": {},
   "outputs": [],
   "source": [
    "# Diagramme à barre de la vairable day ordre decroissant "
   ]
  },
  {
   "cell_type": "code",
   "execution_count": null,
   "id": "26e8ac86-bed8-4971-8888-c097f295b2da",
   "metadata": {},
   "outputs": [],
   "source": [
    "# Diagramme à barre de la vairable day ordre croissant"
   ]
  },
  {
   "cell_type": "code",
   "execution_count": null,
   "id": "0f6c9a95-e46d-4936-9c08-e87f74dfc0f2",
   "metadata": {},
   "outputs": [],
   "source": [
    "# diagramme circulaire\n",
    "tips_df[\"time\"].value_counts().plot(kind ='pie', title = \"services du restaurant\")"
   ]
  },
  {
   "cell_type": "markdown",
   "id": "2bf6ef01-b302-4d1d-a22f-5234ebac6451",
   "metadata": {},
   "source": [
    "# EXERCICE SUR L'ANALYSE UNIVARIEE"
   ]
  },
  {
   "cell_type": "markdown",
   "id": "bb7db893-dd31-4371-b2d4-57e87065f653",
   "metadata": {},
   "source": [
    "Dans cet Exercice, votre tache principale consiste à réaliser l'analyse univariée d'un jeu de données réel. Vous utiliserez un jeu de données résultant de l'enquete nationale sur la santé et la nutrition réaliséepar le centre nationale des statistique sanitaires aux USA. il s'agit d'un programme d'études conçu pour évaluer la santé et l'état nutritionnel des adultes et des enfants aux USA. Les données proviennent de cette sources : \n",
    "https://ftp.cdc.gov/pub/Health_Statistics/NCHS/Datasets/"
   ]
  },
  {
   "cell_type": "code",
   "execution_count": 39,
   "id": "508869b1-4493-4b1e-8754-ee9f95bb620e",
   "metadata": {},
   "outputs": [],
   "source": [
    "# importation des librairies\n",
    "import pandas as pd\n",
    "import numpy as np\n",
    "import matplotlib.pyplot as plt\n",
    "import seaborn as sns\n",
    "import plotly.offline as py\n",
    "import plotly.graph_objs as go \n",
    "from plotly.figure_factory import create_table\n",
    "import plotly.express as px\n",
    "import scipy.stats as st\n",
    "from PyPDF2 import PdfMerger "
   ]
  },
  {
   "cell_type": "code",
   "execution_count": 41,
   "id": "c1962ea5-d1d0-45d4-9e4f-ccb23d526729",
   "metadata": {},
   "outputs": [
    {
     "data": {
      "text/html": [
       "<div>\n",
       "<style scoped>\n",
       "    .dataframe tbody tr th:only-of-type {\n",
       "        vertical-align: middle;\n",
       "    }\n",
       "\n",
       "    .dataframe tbody tr th {\n",
       "        vertical-align: top;\n",
       "    }\n",
       "\n",
       "    .dataframe thead th {\n",
       "        text-align: right;\n",
       "    }\n",
       "</style>\n",
       "<table border=\"1\" class=\"dataframe\">\n",
       "  <thead>\n",
       "    <tr style=\"text-align: right;\">\n",
       "      <th></th>\n",
       "      <th>SEQN</th>\n",
       "      <th>ALQ101</th>\n",
       "      <th>ALQ110</th>\n",
       "      <th>ALQ130</th>\n",
       "      <th>SMQ020</th>\n",
       "      <th>RIAGENDR</th>\n",
       "      <th>RIDAGEYR</th>\n",
       "      <th>RIDRETH1</th>\n",
       "      <th>DMDCITZN</th>\n",
       "      <th>DMDEDUC2</th>\n",
       "      <th>...</th>\n",
       "      <th>BPXSY2</th>\n",
       "      <th>BPXDI2</th>\n",
       "      <th>BMXWT</th>\n",
       "      <th>BMXHT</th>\n",
       "      <th>BMXBMI</th>\n",
       "      <th>BMXLEG</th>\n",
       "      <th>BMXARML</th>\n",
       "      <th>BMXARMC</th>\n",
       "      <th>BMXWAIST</th>\n",
       "      <th>HIQ210</th>\n",
       "    </tr>\n",
       "  </thead>\n",
       "  <tbody>\n",
       "    <tr>\n",
       "      <th>0</th>\n",
       "      <td>83732</td>\n",
       "      <td>1.0</td>\n",
       "      <td>NaN</td>\n",
       "      <td>1.0</td>\n",
       "      <td>1</td>\n",
       "      <td>1</td>\n",
       "      <td>62</td>\n",
       "      <td>3</td>\n",
       "      <td>1.0</td>\n",
       "      <td>5.0</td>\n",
       "      <td>...</td>\n",
       "      <td>124.0</td>\n",
       "      <td>64.0</td>\n",
       "      <td>94.8</td>\n",
       "      <td>184.5</td>\n",
       "      <td>27.8</td>\n",
       "      <td>43.3</td>\n",
       "      <td>43.6</td>\n",
       "      <td>35.9</td>\n",
       "      <td>101.1</td>\n",
       "      <td>2.0</td>\n",
       "    </tr>\n",
       "    <tr>\n",
       "      <th>1</th>\n",
       "      <td>83733</td>\n",
       "      <td>1.0</td>\n",
       "      <td>NaN</td>\n",
       "      <td>6.0</td>\n",
       "      <td>1</td>\n",
       "      <td>1</td>\n",
       "      <td>53</td>\n",
       "      <td>3</td>\n",
       "      <td>2.0</td>\n",
       "      <td>3.0</td>\n",
       "      <td>...</td>\n",
       "      <td>140.0</td>\n",
       "      <td>88.0</td>\n",
       "      <td>90.4</td>\n",
       "      <td>171.4</td>\n",
       "      <td>30.8</td>\n",
       "      <td>38.0</td>\n",
       "      <td>40.0</td>\n",
       "      <td>33.2</td>\n",
       "      <td>107.9</td>\n",
       "      <td>NaN</td>\n",
       "    </tr>\n",
       "    <tr>\n",
       "      <th>2</th>\n",
       "      <td>83734</td>\n",
       "      <td>1.0</td>\n",
       "      <td>NaN</td>\n",
       "      <td>NaN</td>\n",
       "      <td>1</td>\n",
       "      <td>1</td>\n",
       "      <td>78</td>\n",
       "      <td>3</td>\n",
       "      <td>1.0</td>\n",
       "      <td>3.0</td>\n",
       "      <td>...</td>\n",
       "      <td>132.0</td>\n",
       "      <td>44.0</td>\n",
       "      <td>83.4</td>\n",
       "      <td>170.1</td>\n",
       "      <td>28.8</td>\n",
       "      <td>35.6</td>\n",
       "      <td>37.0</td>\n",
       "      <td>31.0</td>\n",
       "      <td>116.5</td>\n",
       "      <td>2.0</td>\n",
       "    </tr>\n",
       "    <tr>\n",
       "      <th>3</th>\n",
       "      <td>83735</td>\n",
       "      <td>2.0</td>\n",
       "      <td>1.0</td>\n",
       "      <td>1.0</td>\n",
       "      <td>2</td>\n",
       "      <td>2</td>\n",
       "      <td>56</td>\n",
       "      <td>3</td>\n",
       "      <td>1.0</td>\n",
       "      <td>5.0</td>\n",
       "      <td>...</td>\n",
       "      <td>134.0</td>\n",
       "      <td>68.0</td>\n",
       "      <td>109.8</td>\n",
       "      <td>160.9</td>\n",
       "      <td>42.4</td>\n",
       "      <td>38.5</td>\n",
       "      <td>37.7</td>\n",
       "      <td>38.3</td>\n",
       "      <td>110.1</td>\n",
       "      <td>2.0</td>\n",
       "    </tr>\n",
       "    <tr>\n",
       "      <th>4</th>\n",
       "      <td>83736</td>\n",
       "      <td>2.0</td>\n",
       "      <td>1.0</td>\n",
       "      <td>1.0</td>\n",
       "      <td>2</td>\n",
       "      <td>2</td>\n",
       "      <td>42</td>\n",
       "      <td>4</td>\n",
       "      <td>1.0</td>\n",
       "      <td>4.0</td>\n",
       "      <td>...</td>\n",
       "      <td>114.0</td>\n",
       "      <td>54.0</td>\n",
       "      <td>55.2</td>\n",
       "      <td>164.9</td>\n",
       "      <td>20.3</td>\n",
       "      <td>37.4</td>\n",
       "      <td>36.0</td>\n",
       "      <td>27.2</td>\n",
       "      <td>80.4</td>\n",
       "      <td>2.0</td>\n",
       "    </tr>\n",
       "    <tr>\n",
       "      <th>5</th>\n",
       "      <td>83737</td>\n",
       "      <td>2.0</td>\n",
       "      <td>2.0</td>\n",
       "      <td>NaN</td>\n",
       "      <td>2</td>\n",
       "      <td>2</td>\n",
       "      <td>72</td>\n",
       "      <td>1</td>\n",
       "      <td>2.0</td>\n",
       "      <td>2.0</td>\n",
       "      <td>...</td>\n",
       "      <td>122.0</td>\n",
       "      <td>58.0</td>\n",
       "      <td>64.4</td>\n",
       "      <td>150.0</td>\n",
       "      <td>28.6</td>\n",
       "      <td>34.4</td>\n",
       "      <td>33.5</td>\n",
       "      <td>31.4</td>\n",
       "      <td>92.9</td>\n",
       "      <td>NaN</td>\n",
       "    </tr>\n",
       "    <tr>\n",
       "      <th>6</th>\n",
       "      <td>83741</td>\n",
       "      <td>1.0</td>\n",
       "      <td>NaN</td>\n",
       "      <td>8.0</td>\n",
       "      <td>1</td>\n",
       "      <td>1</td>\n",
       "      <td>22</td>\n",
       "      <td>4</td>\n",
       "      <td>1.0</td>\n",
       "      <td>4.0</td>\n",
       "      <td>...</td>\n",
       "      <td>112.0</td>\n",
       "      <td>74.0</td>\n",
       "      <td>76.6</td>\n",
       "      <td>165.4</td>\n",
       "      <td>28.0</td>\n",
       "      <td>38.8</td>\n",
       "      <td>38.0</td>\n",
       "      <td>34.0</td>\n",
       "      <td>86.6</td>\n",
       "      <td>NaN</td>\n",
       "    </tr>\n",
       "  </tbody>\n",
       "</table>\n",
       "<p>7 rows × 28 columns</p>\n",
       "</div>"
      ],
      "text/plain": [
       "    SEQN  ALQ101  ALQ110  ALQ130  SMQ020  RIAGENDR  RIDAGEYR  RIDRETH1  \\\n",
       "0  83732     1.0     NaN     1.0       1         1        62         3   \n",
       "1  83733     1.0     NaN     6.0       1         1        53         3   \n",
       "2  83734     1.0     NaN     NaN       1         1        78         3   \n",
       "3  83735     2.0     1.0     1.0       2         2        56         3   \n",
       "4  83736     2.0     1.0     1.0       2         2        42         4   \n",
       "5  83737     2.0     2.0     NaN       2         2        72         1   \n",
       "6  83741     1.0     NaN     8.0       1         1        22         4   \n",
       "\n",
       "   DMDCITZN  DMDEDUC2  ...  BPXSY2  BPXDI2  BMXWT  BMXHT  BMXBMI  BMXLEG  \\\n",
       "0       1.0       5.0  ...   124.0    64.0   94.8  184.5    27.8    43.3   \n",
       "1       2.0       3.0  ...   140.0    88.0   90.4  171.4    30.8    38.0   \n",
       "2       1.0       3.0  ...   132.0    44.0   83.4  170.1    28.8    35.6   \n",
       "3       1.0       5.0  ...   134.0    68.0  109.8  160.9    42.4    38.5   \n",
       "4       1.0       4.0  ...   114.0    54.0   55.2  164.9    20.3    37.4   \n",
       "5       2.0       2.0  ...   122.0    58.0   64.4  150.0    28.6    34.4   \n",
       "6       1.0       4.0  ...   112.0    74.0   76.6  165.4    28.0    38.8   \n",
       "\n",
       "   BMXARML  BMXARMC  BMXWAIST  HIQ210  \n",
       "0     43.6     35.9     101.1     2.0  \n",
       "1     40.0     33.2     107.9     NaN  \n",
       "2     37.0     31.0     116.5     2.0  \n",
       "3     37.7     38.3     110.1     2.0  \n",
       "4     36.0     27.2      80.4     2.0  \n",
       "5     33.5     31.4      92.9     NaN  \n",
       "6     38.0     34.0      86.6     NaN  \n",
       "\n",
       "[7 rows x 28 columns]"
      ]
     },
     "execution_count": 41,
     "metadata": {},
     "output_type": "execute_result"
    }
   ],
   "source": [
    "# importation de données\n",
    "file = 'nhanes_2015_2016.csv'\n",
    "df = pd.read_csv(file)\n",
    "\n",
    "df.head(7)\n"
   ]
  },
  {
   "cell_type": "code",
   "execution_count": 43,
   "id": "b6cbec29-d5ea-4b87-9979-8a138dbe87f0",
   "metadata": {},
   "outputs": [
    {
     "data": {
      "text/plain": [
       "(5735, 28)"
      ]
     },
     "execution_count": 43,
     "metadata": {},
     "output_type": "execute_result"
    }
   ],
   "source": [
    "df.shape"
   ]
  },
  {
   "cell_type": "code",
   "execution_count": 45,
   "id": "5b4e85f4-deb7-4376-ad4c-2dbc81f43e9e",
   "metadata": {},
   "outputs": [
    {
     "name": "stdout",
     "output_type": "stream",
     "text": [
      "<class 'pandas.core.frame.DataFrame'>\n",
      "RangeIndex: 5735 entries, 0 to 5734\n",
      "Data columns (total 28 columns):\n",
      " #   Column    Non-Null Count  Dtype  \n",
      "---  ------    --------------  -----  \n",
      " 0   SEQN      5735 non-null   int64  \n",
      " 1   ALQ101    5208 non-null   float64\n",
      " 2   ALQ110    1731 non-null   float64\n",
      " 3   ALQ130    3379 non-null   float64\n",
      " 4   SMQ020    5735 non-null   int64  \n",
      " 5   RIAGENDR  5735 non-null   int64  \n",
      " 6   RIDAGEYR  5735 non-null   int64  \n",
      " 7   RIDRETH1  5735 non-null   int64  \n",
      " 8   DMDCITZN  5734 non-null   float64\n",
      " 9   DMDEDUC2  5474 non-null   float64\n",
      " 10  DMDMARTL  5474 non-null   float64\n",
      " 11  DMDHHSIZ  5735 non-null   int64  \n",
      " 12  WTINT2YR  5735 non-null   float64\n",
      " 13  SDMVPSU   5735 non-null   int64  \n",
      " 14  SDMVSTRA  5735 non-null   int64  \n",
      " 15  INDFMPIR  5134 non-null   float64\n",
      " 16  BPXSY1    5401 non-null   float64\n",
      " 17  BPXDI1    5401 non-null   float64\n",
      " 18  BPXSY2    5535 non-null   float64\n",
      " 19  BPXDI2    5535 non-null   float64\n",
      " 20  BMXWT     5666 non-null   float64\n",
      " 21  BMXHT     5673 non-null   float64\n",
      " 22  BMXBMI    5662 non-null   float64\n",
      " 23  BMXLEG    5345 non-null   float64\n",
      " 24  BMXARML   5427 non-null   float64\n",
      " 25  BMXARMC   5427 non-null   float64\n",
      " 26  BMXWAIST  5368 non-null   float64\n",
      " 27  HIQ210    4732 non-null   float64\n",
      "dtypes: float64(20), int64(8)\n",
      "memory usage: 1.2 MB\n"
     ]
    }
   ],
   "source": [
    "df.info()"
   ]
  },
  {
   "cell_type": "markdown",
   "id": "e7a63245-04fc-4849-b743-4eddd86d4b18",
   "metadata": {},
   "source": [
    "## <font color=red> Question 1\n",
    "\n",
    "La variable DMAMARTL represente la situation matrimoniale de la personne interrogée."
   ]
  },
  {
   "cell_type": "code",
   "execution_count": 48,
   "id": "3861bce7-3258-4bf8-b69e-113ab5aea6af",
   "metadata": {},
   "outputs": [
    {
     "data": {
      "text/plain": [
       "DMDMARTL\n",
       "1.0     0.507855\n",
       "5.0     0.183412\n",
       "3.0     0.105773\n",
       "6.0     0.096273\n",
       "2.0     0.072342\n",
       "4.0     0.033979\n",
       "77.0    0.000365\n",
       "Name: proportion, dtype: float64"
      ]
     },
     "execution_count": 48,
     "metadata": {},
     "output_type": "execute_result"
    }
   ],
   "source": [
    "# affichez la table des frequence de la variable\n",
    "df['DMDMARTL'].value_counts(normalize = True)"
   ]
  },
  {
   "cell_type": "code",
   "execution_count": 50,
   "id": "84a108f8-760c-4e9e-8132-f29abf1d598e",
   "metadata": {},
   "outputs": [
    {
     "data": {
      "text/plain": [
       "DMDMARTL\n",
       "1.0     2780\n",
       "5.0     1004\n",
       "3.0      579\n",
       "6.0      527\n",
       "2.0      396\n",
       "4.0      186\n",
       "77.0       2\n",
       "Name: count, dtype: int64"
      ]
     },
     "execution_count": 50,
     "metadata": {},
     "output_type": "execute_result"
    }
   ],
   "source": [
    "# affichez la table des éffectifs de la variable\n",
    "df['DMDMARTL'].value_counts()"
   ]
  },
  {
   "cell_type": "code",
   "execution_count": 52,
   "id": "9125b512-c2a6-49ce-b31f-314ada06a321",
   "metadata": {},
   "outputs": [],
   "source": [
    "df['DMDMARTL'] = df.DMDMARTL.replace({1.0 : \"Married\",\n",
    "                                      2.0 : \"Widowed\",\n",
    "                                      3.0 : \"Divorced\",\n",
    "                                      4.0 : \"Separated\",\n",
    "                                      5.0 : \"Never married\",\n",
    "                                      6.0 : \"Living with partener\",\n",
    "                                      77.0 : \"Refused\"})"
   ]
  },
  {
   "cell_type": "code",
   "execution_count": 54,
   "id": "46d805d3-2ac5-4044-b865-a5cdc40d9a2f",
   "metadata": {},
   "outputs": [
    {
     "data": {
      "text/plain": [
       "DMDMARTL\n",
       "Married                 2780\n",
       "Never married           1004\n",
       "Divorced                 579\n",
       "Living with partener     527\n",
       "Widowed                  396\n",
       "Separated                186\n",
       "Refused                    2\n",
       "Name: count, dtype: int64"
      ]
     },
     "execution_count": 54,
     "metadata": {},
     "output_type": "execute_result"
    }
   ],
   "source": [
    "df['DMDMARTL'].value_counts()"
   ]
  },
  {
   "cell_type": "markdown",
   "id": "2022d8f3-43c3-45da-921c-07b3bc618fd1",
   "metadata": {},
   "source": [
    "# <center><font color=blue> GRAPHIQUES"
   ]
  },
  {
   "cell_type": "markdown",
   "id": "6096946e-2b2f-49ef-8f72-7fe17f6d33c7",
   "metadata": {},
   "source": [
    "## <font color=red> Question 2\n",
    "\n",
    "Tracez un diagramme à barres indiquant la situation matrimoniale des personnes interrogées (DMAMARTL) Ordonnez les modalités dans l'ordre croissant des fréquences. "
   ]
  },
  {
   "cell_type": "markdown",
   "id": "aa788d9f-8d59-4c49-8f41-d1f07f7e3796",
   "metadata": {},
   "source": [
    "## <font color=yellow> Seaborn"
   ]
  },
  {
   "cell_type": "markdown",
   "id": "b5128355-01a7-47da-b556-bb0273cf5634",
   "metadata": {},
   "source": [
    "### <font color=yellow> diagramme à bar"
   ]
  },
  {
   "cell_type": "code",
   "execution_count": 213,
   "id": "8bbd1587-ef9f-42ef-a479-24c0bb3e2b96",
   "metadata": {},
   "outputs": [
    {
     "data": {
      "image/png": "[encoded data removed]",
      "text/plain": [
       "<Figure size 1500x1000 with 1 Axes>"
      ]
     },
     "metadata": {},
     "output_type": "display_data"
    }
   ],
   "source": [
    "plt.figure(figsize = (15, 10))\n",
    "sns.countplot(data=df, x=\"DMDMARTL\",order = df['DMDMARTL'].value_counts().index)\n",
    "plt.xlabel(\"Statut matrimonial\")\n",
    "plt.ylabel(\"Efféctif\")\n",
    "plt.title(\"Répartion des personnes suivant leur statut Matrimonial\")\n",
    "#plt.show()\n",
    "plt.savefig('seaborn_bars.pdf', orientation=\"landscape\")"
   ]
  },
  {
   "cell_type": "code",
   "execution_count": 81,
   "id": "7b5ac345-566f-4176-b2ee-3fe9ed699b6e",
   "metadata": {},
   "outputs": [],
   "source": [
    "#ERREUR MAUVAISE ECRITURE COTE DATA\n",
    "#sns.countplot(df['DMDMARTL'],order = df['DMDMARTL'].value_counts().index)\n",
    "#plt.xlabel(\"Statut matrimonial\")\n",
    "#plt.ylabel(\"Efféctif\")\n",
    "#plt.show()"
   ]
  },
  {
   "cell_type": "markdown",
   "id": "c8f415b4-2a91-4b8d-b11c-d9ab18b048da",
   "metadata": {},
   "source": [
    "### <font color=yellow> Histogramme"
   ]
  },
  {
   "cell_type": "code",
   "execution_count": 215,
   "id": "097f9bf6-9788-4548-a6f4-b17d72683b01",
   "metadata": {},
   "outputs": [
    {
     "data": {
      "image/png": "[encoded data removed]",
      "text/plain": [
       "<Figure size 640x480 with 1 Axes>"
      ]
     },
     "metadata": {},
     "output_type": "display_data"
    }
   ],
   "source": [
    "sns.distplot(df[\"BMXWT\"], kde= False).set_title('Distribution du poids')\n",
    "plt.savefig('seaborn_hist.pdf', orientation=\"landscape\")"
   ]
  },
  {
   "cell_type": "code",
   "execution_count": 217,
   "id": "babe464e-bbea-4356-8196-1d4f17e13439",
   "metadata": {},
   "outputs": [
    {
     "data": {
      "image/png": "[encoded data removed]",
      "text/plain": [
       "<Figure size 640x480 with 1 Axes>"
      ]
     },
     "metadata": {},
     "output_type": "display_data"
    }
   ],
   "source": [
    "# Dénsité de probabilité et Histogramme\n",
    "\n",
    "sns.distplot(df[\"BMXWT\"], kde= True).set_title('Distribution du poids')\n",
    "plt.savefig('seaborn_dens_hist.pdf', orientation=\"landscape\")"
   ]
  },
  {
   "cell_type": "code",
   "execution_count": 160,
   "id": "0b26763e-c96d-4b15-bba0-d434f5804e11",
   "metadata": {},
   "outputs": [
    {
     "data": {
      "text/plain": [
       "Text(0.5, 1.0, 'Distribution du poids')"
      ]
     },
     "execution_count": 160,
     "metadata": {},
     "output_type": "execute_result"
    },
    {
     "data": {
      "image/png": "[encoded data removed]",
      "text/plain": [
       "<Figure size 640x480 with 1 Axes>"
      ]
     },
     "metadata": {},
     "output_type": "display_data"
    }
   ],
   "source": [
    "# Dénsité de probabilité \n",
    "\n",
    "sns.distplot(df[\"BMXWT\"], hist= False).set_title('Distribution du poids')"
   ]
  },
  {
   "cell_type": "markdown",
   "id": "0073dd56-733a-488d-877e-77a921d5f5a8",
   "metadata": {},
   "source": [
    "### <font color=yellow> boite à moustache"
   ]
  },
  {
   "cell_type": "code",
   "execution_count": 164,
   "id": "84ed62ed-54d0-4db2-9406-e1d15db0cc1b",
   "metadata": {},
   "outputs": [
    {
     "data": {
      "text/plain": [
       "Text(0.5, 1.0, 'Distribution de la taille')"
      ]
     },
     "execution_count": 164,
     "metadata": {},
     "output_type": "execute_result"
    },
    {
     "data": {
      "image/png": "[encoded data removed]",
      "text/plain": [
       "<Figure size 640x480 with 1 Axes>"
      ]
     },
     "metadata": {},
     "output_type": "display_data"
    }
   ],
   "source": [
    "sns.boxplot(y = df[\"BMXWT\"]).set_title(\"Distribution de la taille\")"
   ]
  },
  {
   "cell_type": "markdown",
   "id": "b08f23da-3120-48a0-ba9e-b138f3ca6788",
   "metadata": {},
   "source": [
    "## <font color=yellow> pandas"
   ]
  },
  {
   "cell_type": "code",
   "execution_count": 107,
   "id": "fc2ccc1c-0f33-491f-9a22-38e6cab5e19b",
   "metadata": {},
   "outputs": [
    {
     "data": {
      "image/png": "[encoded data removed]",
      "text/plain": [
       "<Figure size 1300x600 with 1 Axes>"
      ]
     },
     "metadata": {},
     "output_type": "display_data"
    }
   ],
   "source": [
    "plt.figure(figsize = (13, 6))\n",
    "df['DMDMARTL'].value_counts().plot(kind = \"bar\")\n",
    "plt.xlabel(\"Statut matrimonial\")\n",
    "plt.ylabel(\"Efféctif\")\n",
    "plt.title(\"Répartion des personnes suivant leur statut Matrimonial\")\n",
    "plt.show()"
   ]
  },
  {
   "cell_type": "markdown",
   "id": "843fee1b-f1e0-4e8b-ad43-cc10c2f0fc27",
   "metadata": {},
   "source": [
    "## <font color=yellow> matplotlib.plot"
   ]
  },
  {
   "cell_type": "code",
   "execution_count": 196,
   "id": "421ba141-d911-44d7-90a2-eeea8bf1ad57",
   "metadata": {},
   "outputs": [
    {
     "data": {
      "text/plain": [
       "DMDMARTL\n",
       "Married                 2780\n",
       "Never married           1004\n",
       "Divorced                 579\n",
       "Living with partener     527\n",
       "Widowed                  396\n",
       "Separated                186\n",
       "Refused                    2\n",
       "Name: count, dtype: int64"
      ]
     },
     "execution_count": 196,
     "metadata": {},
     "output_type": "execute_result"
    }
   ],
   "source": [
    "df['DMDMARTL'].value_counts()"
   ]
  },
  {
   "cell_type": "code",
   "execution_count": 200,
   "id": "a0585715-709c-4925-bf34-db7edfd628d6",
   "metadata": {},
   "outputs": [
    {
     "data": {
      "text/html": [
       "<div>\n",
       "<style scoped>\n",
       "    .dataframe tbody tr th:only-of-type {\n",
       "        vertical-align: middle;\n",
       "    }\n",
       "\n",
       "    .dataframe tbody tr th {\n",
       "        vertical-align: top;\n",
       "    }\n",
       "\n",
       "    .dataframe thead th {\n",
       "        text-align: right;\n",
       "    }\n",
       "</style>\n",
       "<table border=\"1\" class=\"dataframe\">\n",
       "  <thead>\n",
       "    <tr style=\"text-align: right;\">\n",
       "      <th></th>\n",
       "      <th>DMDMARTL</th>\n",
       "      <th>count</th>\n",
       "    </tr>\n",
       "  </thead>\n",
       "  <tbody>\n",
       "    <tr>\n",
       "      <th>0</th>\n",
       "      <td>Married</td>\n",
       "      <td>2780</td>\n",
       "    </tr>\n",
       "    <tr>\n",
       "      <th>1</th>\n",
       "      <td>Never married</td>\n",
       "      <td>1004</td>\n",
       "    </tr>\n",
       "    <tr>\n",
       "      <th>2</th>\n",
       "      <td>Divorced</td>\n",
       "      <td>579</td>\n",
       "    </tr>\n",
       "    <tr>\n",
       "      <th>3</th>\n",
       "      <td>Living with partener</td>\n",
       "      <td>527</td>\n",
       "    </tr>\n",
       "    <tr>\n",
       "      <th>4</th>\n",
       "      <td>Widowed</td>\n",
       "      <td>396</td>\n",
       "    </tr>\n",
       "    <tr>\n",
       "      <th>5</th>\n",
       "      <td>Separated</td>\n",
       "      <td>186</td>\n",
       "    </tr>\n",
       "    <tr>\n",
       "      <th>6</th>\n",
       "      <td>Refused</td>\n",
       "      <td>2</td>\n",
       "    </tr>\n",
       "  </tbody>\n",
       "</table>\n",
       "</div>"
      ],
      "text/plain": [
       "               DMDMARTL  count\n",
       "0               Married   2780\n",
       "1         Never married   1004\n",
       "2              Divorced    579\n",
       "3  Living with partener    527\n",
       "4               Widowed    396\n",
       "5             Separated    186\n",
       "6               Refused      2"
      ]
     },
     "execution_count": 200,
     "metadata": {},
     "output_type": "execute_result"
    }
   ],
   "source": [
    "effectif = df['DMDMARTL'].value_counts().reset_index()\n",
    "effectif"
   ]
  },
  {
   "cell_type": "code",
   "execution_count": 208,
   "id": "c892b9da-58ef-4baa-a52b-2ed689bdace7",
   "metadata": {},
   "outputs": [
    {
     "data": {
      "image/png": "[encoded data removed]",
      "text/plain": [
       "<Figure size 1500x600 with 1 Axes>"
      ]
     },
     "metadata": {},
     "output_type": "display_data"
    }
   ],
   "source": [
    "couleur = [\"red\", \"blue\", \"green\", \"purple\"]\n",
    "plt.figure(figsize = (15, 6))\n",
    "plt.bar(effectif[\"DMDMARTL\"], effectif[\"count\"],color = couleur)\n",
    "plt.xlabel(\"Statut matrimonial\")\n",
    "plt.ylabel(\"Efféctif\")\n",
    "plt.title(\"Répartion des personnes suivant leur statut Matrimonial\")\n",
    "plt.show()"
   ]
  },
  {
   "cell_type": "markdown",
   "id": "05f37cf1-6777-4cce-bbce-f2329d4d2ce1",
   "metadata": {},
   "source": [
    "## <font color=yellow> plotly.express"
   ]
  },
  {
   "cell_type": "code",
   "execution_count": null,
   "id": "22dadc6b-7d94-420e-96bc-6d668db30f79",
   "metadata": {},
   "outputs": [],
   "source": []
  },
  {
   "cell_type": "code",
   "execution_count": null,
   "id": "2634a54f-dd3d-43a0-b740-2cd7e344da30",
   "metadata": {},
   "outputs": [],
   "source": []
  },
  {
   "cell_type": "code",
   "execution_count": 166,
   "id": "7ad93ace-006b-4ffc-b884-818a06779714",
   "metadata": {},
   "outputs": [
    {
     "name": "stdout",
     "output_type": "stream",
     "text": [
      "<class 'pandas.core.frame.DataFrame'>\n",
      "RangeIndex: 5735 entries, 0 to 5734\n",
      "Data columns (total 28 columns):\n",
      " #   Column    Non-Null Count  Dtype  \n",
      "---  ------    --------------  -----  \n",
      " 0   SEQN      5735 non-null   int64  \n",
      " 1   ALQ101    5208 non-null   float64\n",
      " 2   ALQ110    1731 non-null   float64\n",
      " 3   ALQ130    3379 non-null   float64\n",
      " 4   SMQ020    5735 non-null   int64  \n",
      " 5   RIAGENDR  5735 non-null   int64  \n",
      " 6   RIDAGEYR  5735 non-null   int64  \n",
      " 7   RIDRETH1  5735 non-null   int64  \n",
      " 8   DMDCITZN  5734 non-null   float64\n",
      " 9   DMDEDUC2  5474 non-null   float64\n",
      " 10  DMDMARTL  5474 non-null   object \n",
      " 11  DMDHHSIZ  5735 non-null   int64  \n",
      " 12  WTINT2YR  5735 non-null   float64\n",
      " 13  SDMVPSU   5735 non-null   int64  \n",
      " 14  SDMVSTRA  5735 non-null   int64  \n",
      " 15  INDFMPIR  5134 non-null   float64\n",
      " 16  BPXSY1    5401 non-null   float64\n",
      " 17  BPXDI1    5401 non-null   float64\n",
      " 18  BPXSY2    5535 non-null   float64\n",
      " 19  BPXDI2    5535 non-null   float64\n",
      " 20  BMXWT     5666 non-null   float64\n",
      " 21  BMXHT     5673 non-null   float64\n",
      " 22  BMXBMI    5662 non-null   float64\n",
      " 23  BMXLEG    5345 non-null   float64\n",
      " 24  BMXARML   5427 non-null   float64\n",
      " 25  BMXARMC   5427 non-null   float64\n",
      " 26  BMXWAIST  5368 non-null   float64\n",
      " 27  HIQ210    4732 non-null   float64\n",
      "dtypes: float64(19), int64(8), object(1)\n",
      "memory usage: 1.2+ MB\n"
     ]
    }
   ],
   "source": [
    "df.info()"
   ]
  },
  {
   "cell_type": "code",
   "execution_count": 140,
   "id": "755f3396-25b8-4a3f-b705-508bf826fbfa",
   "metadata": {},
   "outputs": [
    {
     "data": {
      "text/html": [
       "<div>\n",
       "<style scoped>\n",
       "    .dataframe tbody tr th:only-of-type {\n",
       "        vertical-align: middle;\n",
       "    }\n",
       "\n",
       "    .dataframe tbody tr th {\n",
       "        vertical-align: top;\n",
       "    }\n",
       "\n",
       "    .dataframe thead th {\n",
       "        text-align: right;\n",
       "    }\n",
       "</style>\n",
       "<table border=\"1\" class=\"dataframe\">\n",
       "  <thead>\n",
       "    <tr style=\"text-align: right;\">\n",
       "      <th></th>\n",
       "      <th>SEQN</th>\n",
       "      <th>ALQ101</th>\n",
       "      <th>ALQ110</th>\n",
       "      <th>ALQ130</th>\n",
       "      <th>SMQ020</th>\n",
       "      <th>RIAGENDR</th>\n",
       "      <th>RIDAGEYR</th>\n",
       "      <th>RIDRETH1</th>\n",
       "      <th>DMDCITZN</th>\n",
       "      <th>DMDEDUC2</th>\n",
       "      <th>...</th>\n",
       "      <th>BPXSY2</th>\n",
       "      <th>BPXDI2</th>\n",
       "      <th>BMXWT</th>\n",
       "      <th>BMXHT</th>\n",
       "      <th>BMXBMI</th>\n",
       "      <th>BMXLEG</th>\n",
       "      <th>BMXARML</th>\n",
       "      <th>BMXARMC</th>\n",
       "      <th>BMXWAIST</th>\n",
       "      <th>HIQ210</th>\n",
       "    </tr>\n",
       "  </thead>\n",
       "  <tbody>\n",
       "    <tr>\n",
       "      <th>count</th>\n",
       "      <td>5735.000000</td>\n",
       "      <td>5208.000000</td>\n",
       "      <td>1731.000000</td>\n",
       "      <td>3379.000000</td>\n",
       "      <td>5735.000000</td>\n",
       "      <td>5735.000000</td>\n",
       "      <td>5735.000000</td>\n",
       "      <td>5735.000000</td>\n",
       "      <td>5734.000000</td>\n",
       "      <td>5474.000000</td>\n",
       "      <td>...</td>\n",
       "      <td>5535.000000</td>\n",
       "      <td>5535.000000</td>\n",
       "      <td>5666.000000</td>\n",
       "      <td>5673.000000</td>\n",
       "      <td>5662.000000</td>\n",
       "      <td>5345.000000</td>\n",
       "      <td>5427.000000</td>\n",
       "      <td>5427.000000</td>\n",
       "      <td>5368.000000</td>\n",
       "      <td>4732.000000</td>\n",
       "    </tr>\n",
       "    <tr>\n",
       "      <th>mean</th>\n",
       "      <td>88678.583435</td>\n",
       "      <td>1.336406</td>\n",
       "      <td>1.587522</td>\n",
       "      <td>3.911512</td>\n",
       "      <td>1.607149</td>\n",
       "      <td>1.518919</td>\n",
       "      <td>48.052310</td>\n",
       "      <td>3.042371</td>\n",
       "      <td>1.185385</td>\n",
       "      <td>3.441725</td>\n",
       "      <td>...</td>\n",
       "      <td>124.783017</td>\n",
       "      <td>69.346703</td>\n",
       "      <td>81.342676</td>\n",
       "      <td>166.142834</td>\n",
       "      <td>29.382197</td>\n",
       "      <td>38.576782</td>\n",
       "      <td>37.146987</td>\n",
       "      <td>33.112235</td>\n",
       "      <td>99.567213</td>\n",
       "      <td>1.915469</td>\n",
       "    </tr>\n",
       "    <tr>\n",
       "      <th>std</th>\n",
       "      <td>2882.139237</td>\n",
       "      <td>0.505514</td>\n",
       "      <td>0.623940</td>\n",
       "      <td>34.341839</td>\n",
       "      <td>0.571975</td>\n",
       "      <td>0.499686</td>\n",
       "      <td>18.431011</td>\n",
       "      <td>1.296793</td>\n",
       "      <td>0.491678</td>\n",
       "      <td>1.309700</td>\n",
       "      <td>...</td>\n",
       "      <td>18.527012</td>\n",
       "      <td>13.022829</td>\n",
       "      <td>21.764409</td>\n",
       "      <td>10.079264</td>\n",
       "      <td>7.095921</td>\n",
       "      <td>3.873018</td>\n",
       "      <td>2.800784</td>\n",
       "      <td>5.268027</td>\n",
       "      <td>16.844109</td>\n",
       "      <td>0.414845</td>\n",
       "    </tr>\n",
       "    <tr>\n",
       "      <th>min</th>\n",
       "      <td>83732.000000</td>\n",
       "      <td>1.000000</td>\n",
       "      <td>1.000000</td>\n",
       "      <td>1.000000</td>\n",
       "      <td>1.000000</td>\n",
       "      <td>1.000000</td>\n",
       "      <td>18.000000</td>\n",
       "      <td>1.000000</td>\n",
       "      <td>1.000000</td>\n",
       "      <td>1.000000</td>\n",
       "      <td>...</td>\n",
       "      <td>84.000000</td>\n",
       "      <td>0.000000</td>\n",
       "      <td>32.400000</td>\n",
       "      <td>129.700000</td>\n",
       "      <td>14.500000</td>\n",
       "      <td>26.000000</td>\n",
       "      <td>28.200000</td>\n",
       "      <td>17.100000</td>\n",
       "      <td>58.700000</td>\n",
       "      <td>1.000000</td>\n",
       "    </tr>\n",
       "    <tr>\n",
       "      <th>25%</th>\n",
       "      <td>86164.000000</td>\n",
       "      <td>1.000000</td>\n",
       "      <td>1.000000</td>\n",
       "      <td>1.000000</td>\n",
       "      <td>1.000000</td>\n",
       "      <td>1.000000</td>\n",
       "      <td>32.000000</td>\n",
       "      <td>2.000000</td>\n",
       "      <td>1.000000</td>\n",
       "      <td>3.000000</td>\n",
       "      <td>...</td>\n",
       "      <td>112.000000</td>\n",
       "      <td>62.000000</td>\n",
       "      <td>65.900000</td>\n",
       "      <td>158.700000</td>\n",
       "      <td>24.300000</td>\n",
       "      <td>36.000000</td>\n",
       "      <td>35.200000</td>\n",
       "      <td>29.500000</td>\n",
       "      <td>87.600000</td>\n",
       "      <td>2.000000</td>\n",
       "    </tr>\n",
       "    <tr>\n",
       "      <th>50%</th>\n",
       "      <td>88668.000000</td>\n",
       "      <td>1.000000</td>\n",
       "      <td>2.000000</td>\n",
       "      <td>2.000000</td>\n",
       "      <td>2.000000</td>\n",
       "      <td>2.000000</td>\n",
       "      <td>48.000000</td>\n",
       "      <td>3.000000</td>\n",
       "      <td>1.000000</td>\n",
       "      <td>4.000000</td>\n",
       "      <td>...</td>\n",
       "      <td>122.000000</td>\n",
       "      <td>70.000000</td>\n",
       "      <td>78.200000</td>\n",
       "      <td>166.000000</td>\n",
       "      <td>28.300000</td>\n",
       "      <td>38.600000</td>\n",
       "      <td>37.100000</td>\n",
       "      <td>32.700000</td>\n",
       "      <td>98.300000</td>\n",
       "      <td>2.000000</td>\n",
       "    </tr>\n",
       "    <tr>\n",
       "      <th>75%</th>\n",
       "      <td>91178.500000</td>\n",
       "      <td>2.000000</td>\n",
       "      <td>2.000000</td>\n",
       "      <td>3.000000</td>\n",
       "      <td>2.000000</td>\n",
       "      <td>2.000000</td>\n",
       "      <td>63.000000</td>\n",
       "      <td>4.000000</td>\n",
       "      <td>1.000000</td>\n",
       "      <td>4.750000</td>\n",
       "      <td>...</td>\n",
       "      <td>134.000000</td>\n",
       "      <td>78.000000</td>\n",
       "      <td>92.700000</td>\n",
       "      <td>173.500000</td>\n",
       "      <td>33.000000</td>\n",
       "      <td>41.200000</td>\n",
       "      <td>39.000000</td>\n",
       "      <td>36.200000</td>\n",
       "      <td>109.300000</td>\n",
       "      <td>2.000000</td>\n",
       "    </tr>\n",
       "    <tr>\n",
       "      <th>max</th>\n",
       "      <td>93702.000000</td>\n",
       "      <td>9.000000</td>\n",
       "      <td>9.000000</td>\n",
       "      <td>999.000000</td>\n",
       "      <td>9.000000</td>\n",
       "      <td>2.000000</td>\n",
       "      <td>80.000000</td>\n",
       "      <td>5.000000</td>\n",
       "      <td>9.000000</td>\n",
       "      <td>9.000000</td>\n",
       "      <td>...</td>\n",
       "      <td>238.000000</td>\n",
       "      <td>144.000000</td>\n",
       "      <td>198.900000</td>\n",
       "      <td>202.700000</td>\n",
       "      <td>67.300000</td>\n",
       "      <td>51.500000</td>\n",
       "      <td>47.400000</td>\n",
       "      <td>58.400000</td>\n",
       "      <td>171.600000</td>\n",
       "      <td>9.000000</td>\n",
       "    </tr>\n",
       "  </tbody>\n",
       "</table>\n",
       "<p>8 rows × 27 columns</p>\n",
       "</div>"
      ],
      "text/plain": [
       "               SEQN       ALQ101       ALQ110       ALQ130       SMQ020  \\\n",
       "count   5735.000000  5208.000000  1731.000000  3379.000000  5735.000000   \n",
       "mean   88678.583435     1.336406     1.587522     3.911512     1.607149   \n",
       "std     2882.139237     0.505514     0.623940    34.341839     0.571975   \n",
       "min    83732.000000     1.000000     1.000000     1.000000     1.000000   \n",
       "25%    86164.000000     1.000000     1.000000     1.000000     1.000000   \n",
       "50%    88668.000000     1.000000     2.000000     2.000000     2.000000   \n",
       "75%    91178.500000     2.000000     2.000000     3.000000     2.000000   \n",
       "max    93702.000000     9.000000     9.000000   999.000000     9.000000   \n",
       "\n",
       "          RIAGENDR     RIDAGEYR     RIDRETH1     DMDCITZN     DMDEDUC2  ...  \\\n",
       "count  5735.000000  5735.000000  5735.000000  5734.000000  5474.000000  ...   \n",
       "mean      1.518919    48.052310     3.042371     1.185385     3.441725  ...   \n",
       "std       0.499686    18.431011     1.296793     0.491678     1.309700  ...   \n",
       "min       1.000000    18.000000     1.000000     1.000000     1.000000  ...   \n",
       "25%       1.000000    32.000000     2.000000     1.000000     3.000000  ...   \n",
       "50%       2.000000    48.000000     3.000000     1.000000     4.000000  ...   \n",
       "75%       2.000000    63.000000     4.000000     1.000000     4.750000  ...   \n",
       "max       2.000000    80.000000     5.000000     9.000000     9.000000  ...   \n",
       "\n",
       "            BPXSY2       BPXDI2        BMXWT        BMXHT       BMXBMI  \\\n",
       "count  5535.000000  5535.000000  5666.000000  5673.000000  5662.000000   \n",
       "mean    124.783017    69.346703    81.342676   166.142834    29.382197   \n",
       "std      18.527012    13.022829    21.764409    10.079264     7.095921   \n",
       "min      84.000000     0.000000    32.400000   129.700000    14.500000   \n",
       "25%     112.000000    62.000000    65.900000   158.700000    24.300000   \n",
       "50%     122.000000    70.000000    78.200000   166.000000    28.300000   \n",
       "75%     134.000000    78.000000    92.700000   173.500000    33.000000   \n",
       "max     238.000000   144.000000   198.900000   202.700000    67.300000   \n",
       "\n",
       "            BMXLEG      BMXARML      BMXARMC     BMXWAIST       HIQ210  \n",
       "count  5345.000000  5427.000000  5427.000000  5368.000000  4732.000000  \n",
       "mean     38.576782    37.146987    33.112235    99.567213     1.915469  \n",
       "std       3.873018     2.800784     5.268027    16.844109     0.414845  \n",
       "min      26.000000    28.200000    17.100000    58.700000     1.000000  \n",
       "25%      36.000000    35.200000    29.500000    87.600000     2.000000  \n",
       "50%      38.600000    37.100000    32.700000    98.300000     2.000000  \n",
       "75%      41.200000    39.000000    36.200000   109.300000     2.000000  \n",
       "max      51.500000    47.400000    58.400000   171.600000     9.000000  \n",
       "\n",
       "[8 rows x 27 columns]"
      ]
     },
     "execution_count": 140,
     "metadata": {},
     "output_type": "execute_result"
    }
   ],
   "source": [
    "df.describe()\n"
   ]
  },
  {
   "cell_type": "code",
   "execution_count": 178,
   "id": "943ebb91-9a91-428e-9429-6c272d27fd91",
   "metadata": {},
   "outputs": [
    {
     "data": {
      "text/plain": [
       "47.793010752688176"
      ]
     },
     "execution_count": 178,
     "metadata": {},
     "output_type": "execute_result"
    }
   ],
   "source": [
    "SEXE = df['RIAGENDR']\n",
    "F = df[SEXE==2]\n",
    "H = df[SEXE==1]\n",
    "F['RIDAGEYR'].mean()\n"
   ]
  },
  {
   "cell_type": "code",
   "execution_count": 174,
   "id": "c186662a-0393-49cd-99ee-e2467b14838e",
   "metadata": {},
   "outputs": [
    {
     "data": {
      "text/plain": [
       "159.6731839782756"
      ]
     },
     "execution_count": 174,
     "metadata": {},
     "output_type": "execute_result"
    }
   ],
   "source": [
    "F['BMXHT'].mean()"
   ]
  },
  {
   "cell_type": "code",
   "execution_count": 172,
   "id": "e64c7f6e-5780-44c8-8070-c65c408d27f4",
   "metadata": {},
   "outputs": [
    {
     "data": {
      "text/plain": [
       "76.51676280963693"
      ]
     },
     "execution_count": 172,
     "metadata": {},
     "output_type": "execute_result"
    }
   ],
   "source": [
    "F['BMXWT'].mean()"
   ]
  },
  {
   "cell_type": "code",
   "execution_count": 180,
   "id": "eb6b5482-b9f8-4320-b75a-6fe512bd7a3e",
   "metadata": {},
   "outputs": [
    {
     "data": {
      "text/plain": [
       "48.332004349401956"
      ]
     },
     "execution_count": 180,
     "metadata": {},
     "output_type": "execute_result"
    }
   ],
   "source": [
    "H['RIDAGEYR'].mean()"
   ]
  },
  {
   "cell_type": "code",
   "execution_count": 182,
   "id": "514dc942-f960-43a5-b718-c8155d988bf7",
   "metadata": {},
   "outputs": [
    {
     "data": {
      "text/plain": [
       "86.57326222876058"
      ]
     },
     "execution_count": 182,
     "metadata": {},
     "output_type": "execute_result"
    }
   ],
   "source": [
    "H['BMXWT'].mean()"
   ]
  },
  {
   "cell_type": "code",
   "execution_count": 184,
   "id": "44227d24-d35c-4f7a-85fe-ded13f59181c",
   "metadata": {},
   "outputs": [
    {
     "data": {
      "text/plain": [
       "173.13204987165383"
      ]
     },
     "execution_count": 184,
     "metadata": {},
     "output_type": "execute_result"
    }
   ],
   "source": [
    "H['BMXHT'].mean()"
   ]
  },
  {
   "cell_type": "code",
   "execution_count": 188,
   "id": "12b14766-6f9e-493e-b709-8eefda796db6",
   "metadata": {},
   "outputs": [
    {
     "data": {
      "text/html": [
       "<div>\n",
       "<style scoped>\n",
       "    .dataframe tbody tr th:only-of-type {\n",
       "        vertical-align: middle;\n",
       "    }\n",
       "\n",
       "    .dataframe tbody tr th {\n",
       "        vertical-align: top;\n",
       "    }\n",
       "\n",
       "    .dataframe thead th {\n",
       "        text-align: right;\n",
       "    }\n",
       "</style>\n",
       "<table border=\"1\" class=\"dataframe\">\n",
       "  <thead>\n",
       "    <tr style=\"text-align: right;\">\n",
       "      <th></th>\n",
       "      <th>RIDAGEYR</th>\n",
       "      <th>BMXWT</th>\n",
       "      <th>BMXHT</th>\n",
       "    </tr>\n",
       "    <tr>\n",
       "      <th>RIAGENDR</th>\n",
       "      <th></th>\n",
       "      <th></th>\n",
       "      <th></th>\n",
       "    </tr>\n",
       "  </thead>\n",
       "  <tbody>\n",
       "    <tr>\n",
       "      <th>1</th>\n",
       "      <td>48.332004</td>\n",
       "      <td>86.573262</td>\n",
       "      <td>173.132050</td>\n",
       "    </tr>\n",
       "    <tr>\n",
       "      <th>2</th>\n",
       "      <td>47.793011</td>\n",
       "      <td>76.516763</td>\n",
       "      <td>159.673184</td>\n",
       "    </tr>\n",
       "  </tbody>\n",
       "</table>\n",
       "</div>"
      ],
      "text/plain": [
       "           RIDAGEYR      BMXWT       BMXHT\n",
       "RIAGENDR                                  \n",
       "1         48.332004  86.573262  173.132050\n",
       "2         47.793011  76.516763  159.673184"
      ]
     },
     "execution_count": 188,
     "metadata": {},
     "output_type": "execute_result"
    }
   ],
   "source": [
    "df.groupby('RIAGENDR')[['RIDAGEYR','BMXWT','BMXHT']].mean()"
   ]
  },
  {
   "cell_type": "code",
   "execution_count": 190,
   "id": "08fc6b77-46e9-4979-889b-873261f74182",
   "metadata": {},
   "outputs": [],
   "source": [
    "df['RIAGENDR'] = df.RIAGENDR.replace({1.0 : \"Homme\",\n",
    "                                      2.0 : \"Femme\"\n",
    "                                      })"
   ]
  },
  {
   "cell_type": "code",
   "execution_count": 192,
   "id": "c279121a-80f3-477c-b07d-de7e5f8d3df3",
   "metadata": {},
   "outputs": [
    {
     "data": {
      "text/html": [
       "<div>\n",
       "<style scoped>\n",
       "    .dataframe tbody tr th:only-of-type {\n",
       "        vertical-align: middle;\n",
       "    }\n",
       "\n",
       "    .dataframe tbody tr th {\n",
       "        vertical-align: top;\n",
       "    }\n",
       "\n",
       "    .dataframe thead th {\n",
       "        text-align: right;\n",
       "    }\n",
       "</style>\n",
       "<table border=\"1\" class=\"dataframe\">\n",
       "  <thead>\n",
       "    <tr style=\"text-align: right;\">\n",
       "      <th></th>\n",
       "      <th>RIDAGEYR</th>\n",
       "      <th>BMXWT</th>\n",
       "      <th>BMXHT</th>\n",
       "    </tr>\n",
       "    <tr>\n",
       "      <th>RIAGENDR</th>\n",
       "      <th></th>\n",
       "      <th></th>\n",
       "      <th></th>\n",
       "    </tr>\n",
       "  </thead>\n",
       "  <tbody>\n",
       "    <tr>\n",
       "      <th>Femme</th>\n",
       "      <td>47.793011</td>\n",
       "      <td>76.516763</td>\n",
       "      <td>159.673184</td>\n",
       "    </tr>\n",
       "    <tr>\n",
       "      <th>Homme</th>\n",
       "      <td>48.332004</td>\n",
       "      <td>86.573262</td>\n",
       "      <td>173.132050</td>\n",
       "    </tr>\n",
       "  </tbody>\n",
       "</table>\n",
       "</div>"
      ],
      "text/plain": [
       "           RIDAGEYR      BMXWT       BMXHT\n",
       "RIAGENDR                                  \n",
       "Femme     47.793011  76.516763  159.673184\n",
       "Homme     48.332004  86.573262  173.132050"
      ]
     },
     "execution_count": 192,
     "metadata": {},
     "output_type": "execute_result"
    }
   ],
   "source": [
    "df.groupby('RIAGENDR')[['RIDAGEYR','BMXWT','BMXHT']].mean()"
   ]
  },
  {
   "cell_type": "code",
   "execution_count": null,
   "id": "70ef76d3-3d5a-4b71-aff3-07a1eb936899",
   "metadata": {},
   "outputs": [],
   "source": []
  }
 ],
 "metadata": {
  "kernelspec": {
   "display_name": "Python [conda env:base] *",
   "language": "python",
   "name": "conda-base-py"
  },
  "language_info": {
   "codemirror_mode": {
    "name": "ipython",
    "version": 3
   },
   "file_extension": ".py",
   "mimetype": "text/x-python",
   "name": "python",
   "nbconvert_exporter": "python",
   "pygments_lexer": "ipython3",
   "version": "3.11.7"
  }
 },
 "nbformat": 4,
 "nbformat_minor": 5
}
