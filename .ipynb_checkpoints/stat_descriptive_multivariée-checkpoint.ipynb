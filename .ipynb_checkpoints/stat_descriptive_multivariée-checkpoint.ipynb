{
 "cells": [
  {
   "cell_type": "markdown",
   "id": "00f99e00-2237-40c9-9eb0-16c1591209d3",
   "metadata": {},
   "source": [
    "# RELATION ENTRE VARIABLES QUANTITATIVES"
   ]
  },
  {
   "cell_type": "markdown",
   "id": "2339446e-1675-4202-b058-3dea86782d49",
   "metadata": {},
   "source": [
    "EFFECTUER UNE ANALYSE MULTIVARIEES , IL EXAMINE LES RELARION ENTRE PLUSIEURS VARIABLES"
   ]
  },
  {
   "cell_type": "code",
   "execution_count": 4,
   "id": "ed38d8b8-7aa9-477b-b07f-d9dc4d7a6911",
   "metadata": {},
   "outputs": [],
   "source": [
    " # Code optionnel \n",
    "from warnings import filterwarnings\n",
    "filterwarnings('ignore')"
   ]
  },
  {
   "cell_type": "markdown",
   "id": "b65e5544-2bae-4d65-b97d-94158eb29254",
   "metadata": {},
   "source": [
    "## Importation des données "
   ]
  },
  {
   "cell_type": "code",
   "execution_count": 7,
   "id": "c3ff0dcb-08dc-458f-b3ad-6dac409b1665",
   "metadata": {},
   "outputs": [],
   "source": [
    "# importation des librairies\n",
    "import pandas as pd\n",
    "import numpy as np \n",
    "import matplotlib.pyplot as plt\n",
    "import seaborn as sns \n",
    "from scipy import stats"
   ]
  },
  {
   "cell_type": "code",
   "execution_count": null,
   "id": "db564fa5-017a-40ac-b29a-957802af2342",
   "metadata": {},
   "outputs": [],
   "source": []
  }
 ],
 "metadata": {
  "kernelspec": {
   "display_name": "Python [conda env:base] *",
   "language": "python",
   "name": "conda-base-py"
  },
  "language_info": {
   "codemirror_mode": {
    "name": "ipython",
    "version": 3
   },
   "file_extension": ".py",
   "mimetype": "text/x-python",
   "name": "python",
   "nbconvert_exporter": "python",
   "pygments_lexer": "ipython3",
   "version": "3.11.7"
  }
 },
 "nbformat": 4,
 "nbformat_minor": 5
}
